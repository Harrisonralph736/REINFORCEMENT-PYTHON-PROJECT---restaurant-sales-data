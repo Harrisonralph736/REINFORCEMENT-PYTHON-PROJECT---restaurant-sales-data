{
 "cells": [
  {
   "cell_type": "markdown",
   "id": "01e55174-d40b-4fac-ab25-00518da0870a",
   "metadata": {},
   "source": [
    "# EDA PROJECT"
   ]
  },
  {
   "cell_type": "markdown",
   "id": "8224587a-ac09-48a1-b310-1aaf3bc8ea29",
   "metadata": {},
   "source": [
    "To build an Exploratory Data Analysis (EDA) project for understanding sales of the restaurant\n",
    "\n",
    "We will use the given dataset (restaurant_sales_data.csv) for detailed analysis, visualization, and interpretation."
   ]
  },
  {
   "cell_type": "markdown",
   "id": "8123dc34-1f80-4321-a956-7c37aa66b408",
   "metadata": {},
   "source": [
    "**Major Parts Of This Project**\n",
    "- Data Understanding\n",
    "- Data Cleaning\n",
    "- Fixing Rows and Columns\n",
    "- Check Missing Values\n",
    "- Standardizing Values\n",
    "- Check Outliers\n",
    "- Exploratory Data Analysis (EDA)\n",
    "- Interpretations of Results\n",
    "- Imports\n",
    "- Importing required modules for EDA process"
   ]
  },
  {
   "cell_type": "code",
   "execution_count": 8,
   "id": "4d6f411d-22c2-4e6f-bc2c-2e5b408a7675",
   "metadata": {},
   "outputs": [
    {
     "data": {
      "text/html": [
       "<div>\n",
       "<style scoped>\n",
       "    .dataframe tbody tr th:only-of-type {\n",
       "        vertical-align: middle;\n",
       "    }\n",
       "\n",
       "    .dataframe tbody tr th {\n",
       "        vertical-align: top;\n",
       "    }\n",
       "\n",
       "    .dataframe thead th {\n",
       "        text-align: right;\n",
       "    }\n",
       "</style>\n",
       "<table border=\"1\" class=\"dataframe\">\n",
       "  <thead>\n",
       "    <tr style=\"text-align: right;\">\n",
       "      <th></th>\n",
       "      <th>Order ID</th>\n",
       "      <th>Customer ID</th>\n",
       "      <th>Category</th>\n",
       "      <th>Item</th>\n",
       "      <th>Price</th>\n",
       "      <th>Quantity</th>\n",
       "      <th>Order Total</th>\n",
       "      <th>Order Date</th>\n",
       "      <th>Payment Method</th>\n",
       "    </tr>\n",
       "  </thead>\n",
       "  <tbody>\n",
       "    <tr>\n",
       "      <th>0</th>\n",
       "      <td>ORD_705844</td>\n",
       "      <td>CUST_092</td>\n",
       "      <td>Side Dishes</td>\n",
       "      <td>Side Salad</td>\n",
       "      <td>3.0</td>\n",
       "      <td>1.0</td>\n",
       "      <td>3.0</td>\n",
       "      <td>2023-12-21</td>\n",
       "      <td>Credit Card</td>\n",
       "    </tr>\n",
       "    <tr>\n",
       "      <th>1</th>\n",
       "      <td>ORD_338528</td>\n",
       "      <td>CUST_021</td>\n",
       "      <td>Side Dishes</td>\n",
       "      <td>Mashed Potatoes</td>\n",
       "      <td>4.0</td>\n",
       "      <td>3.0</td>\n",
       "      <td>12.0</td>\n",
       "      <td>2023-05-19</td>\n",
       "      <td>Digital Wallet</td>\n",
       "    </tr>\n",
       "    <tr>\n",
       "      <th>2</th>\n",
       "      <td>ORD_443849</td>\n",
       "      <td>CUST_029</td>\n",
       "      <td>Main Dishes</td>\n",
       "      <td>Grilled Chicken</td>\n",
       "      <td>15.0</td>\n",
       "      <td>4.0</td>\n",
       "      <td>60.0</td>\n",
       "      <td>2023-09-27</td>\n",
       "      <td>Credit Card</td>\n",
       "    </tr>\n",
       "    <tr>\n",
       "      <th>3</th>\n",
       "      <td>ORD_630508</td>\n",
       "      <td>CUST_075</td>\n",
       "      <td>Drinks</td>\n",
       "      <td>NaN</td>\n",
       "      <td>NaN</td>\n",
       "      <td>2.0</td>\n",
       "      <td>5.0</td>\n",
       "      <td>2022-08-09</td>\n",
       "      <td>Credit Card</td>\n",
       "    </tr>\n",
       "    <tr>\n",
       "      <th>4</th>\n",
       "      <td>ORD_648269</td>\n",
       "      <td>CUST_031</td>\n",
       "      <td>Main Dishes</td>\n",
       "      <td>Pasta Alfredo</td>\n",
       "      <td>12.0</td>\n",
       "      <td>4.0</td>\n",
       "      <td>48.0</td>\n",
       "      <td>2022-05-15</td>\n",
       "      <td>Cash</td>\n",
       "    </tr>\n",
       "  </tbody>\n",
       "</table>\n",
       "</div>"
      ],
      "text/plain": [
       "     Order ID Customer ID     Category             Item  Price  Quantity  \\\n",
       "0  ORD_705844    CUST_092  Side Dishes       Side Salad    3.0       1.0   \n",
       "1  ORD_338528    CUST_021  Side Dishes  Mashed Potatoes    4.0       3.0   \n",
       "2  ORD_443849    CUST_029  Main Dishes  Grilled Chicken   15.0       4.0   \n",
       "3  ORD_630508    CUST_075       Drinks              NaN    NaN       2.0   \n",
       "4  ORD_648269    CUST_031  Main Dishes    Pasta Alfredo   12.0       4.0   \n",
       "\n",
       "   Order Total  Order Date  Payment Method  \n",
       "0          3.0  2023-12-21     Credit Card  \n",
       "1         12.0  2023-05-19  Digital Wallet  \n",
       "2         60.0  2023-09-27     Credit Card  \n",
       "3          5.0  2022-08-09     Credit Card  \n",
       "4         48.0  2022-05-15            Cash  "
      ]
     },
     "execution_count": 8,
     "metadata": {},
     "output_type": "execute_result"
    }
   ],
   "source": [
    "import pandas as pd\n",
    "import numpy as np\n",
    "df = pd.read_csv('restaurant_sales_data.csv')\n",
    "df.head()"
   ]
  },
  {
   "cell_type": "markdown",
   "id": "8795fe75-94c5-474a-98fa-21644e7469f1",
   "metadata": {},
   "source": [
    "- Numpy - For making Numerical calculations and Assumptions.\n",
    "- Pandas - To make data manipulations and changes in Dataframe."
   ]
  },
  {
   "cell_type": "markdown",
   "id": "6f64072b-7983-4780-b7ab-f9286dccadee",
   "metadata": {},
   "source": [
    "# BASIC UNDERSTANDING"
   ]
  },
  {
   "cell_type": "code",
   "execution_count": 9,
   "id": "b2e1e7a0-9f86-4312-8ac7-3889b27c1fa8",
   "metadata": {},
   "outputs": [
    {
     "name": "stdout",
     "output_type": "stream",
     "text": [
      "<class 'pandas.core.frame.DataFrame'>\n",
      "RangeIndex: 17534 entries, 0 to 17533\n",
      "Data columns (total 9 columns):\n",
      " #   Column          Non-Null Count  Dtype  \n",
      "---  ------          --------------  -----  \n",
      " 0   Order ID        17534 non-null  object \n",
      " 1   Customer ID     17534 non-null  object \n",
      " 2   Category        17534 non-null  object \n",
      " 3   Item            15776 non-null  object \n",
      " 4   Price           16658 non-null  float64\n",
      " 5   Quantity        17104 non-null  float64\n",
      " 6   Order Total     17104 non-null  float64\n",
      " 7   Order Date      17534 non-null  object \n",
      " 8   Payment Method  16452 non-null  object \n",
      "dtypes: float64(3), object(6)\n",
      "memory usage: 1.2+ MB\n"
     ]
    }
   ],
   "source": [
    "df.info()"
   ]
  },
  {
   "cell_type": "code",
   "execution_count": 10,
   "id": "62199247-828b-46fe-afe1-770f7dfb16d7",
   "metadata": {},
   "outputs": [
    {
     "data": {
      "text/plain": [
       "Index(['Order ID', 'Customer ID', 'Category', 'Item', 'Price', 'Quantity',\n",
       "       'Order Total', 'Order Date', 'Payment Method'],\n",
       "      dtype='object')"
      ]
     },
     "execution_count": 10,
     "metadata": {},
     "output_type": "execute_result"
    }
   ],
   "source": [
    "df.columns"
   ]
  },
  {
   "cell_type": "code",
   "execution_count": 11,
   "id": "259a4902-7698-4914-ad8f-13b9ad555954",
   "metadata": {},
   "outputs": [
    {
     "data": {
      "text/html": [
       "<div>\n",
       "<style scoped>\n",
       "    .dataframe tbody tr th:only-of-type {\n",
       "        vertical-align: middle;\n",
       "    }\n",
       "\n",
       "    .dataframe tbody tr th {\n",
       "        vertical-align: top;\n",
       "    }\n",
       "\n",
       "    .dataframe thead th {\n",
       "        text-align: right;\n",
       "    }\n",
       "</style>\n",
       "<table border=\"1\" class=\"dataframe\">\n",
       "  <thead>\n",
       "    <tr style=\"text-align: right;\">\n",
       "      <th></th>\n",
       "      <th>Price</th>\n",
       "      <th>Quantity</th>\n",
       "      <th>Order Total</th>\n",
       "    </tr>\n",
       "  </thead>\n",
       "  <tbody>\n",
       "    <tr>\n",
       "      <th>count</th>\n",
       "      <td>16658.000000</td>\n",
       "      <td>17104.000000</td>\n",
       "      <td>17104.000000</td>\n",
       "    </tr>\n",
       "    <tr>\n",
       "      <th>mean</th>\n",
       "      <td>6.586325</td>\n",
       "      <td>3.014149</td>\n",
       "      <td>19.914494</td>\n",
       "    </tr>\n",
       "    <tr>\n",
       "      <th>std</th>\n",
       "      <td>4.834652</td>\n",
       "      <td>1.414598</td>\n",
       "      <td>18.732549</td>\n",
       "    </tr>\n",
       "    <tr>\n",
       "      <th>min</th>\n",
       "      <td>1.000000</td>\n",
       "      <td>1.000000</td>\n",
       "      <td>1.000000</td>\n",
       "    </tr>\n",
       "    <tr>\n",
       "      <th>25%</th>\n",
       "      <td>3.000000</td>\n",
       "      <td>2.000000</td>\n",
       "      <td>7.500000</td>\n",
       "    </tr>\n",
       "    <tr>\n",
       "      <th>50%</th>\n",
       "      <td>5.000000</td>\n",
       "      <td>3.000000</td>\n",
       "      <td>15.000000</td>\n",
       "    </tr>\n",
       "    <tr>\n",
       "      <th>75%</th>\n",
       "      <td>7.000000</td>\n",
       "      <td>4.000000</td>\n",
       "      <td>25.000000</td>\n",
       "    </tr>\n",
       "    <tr>\n",
       "      <th>max</th>\n",
       "      <td>20.000000</td>\n",
       "      <td>5.000000</td>\n",
       "      <td>100.000000</td>\n",
       "    </tr>\n",
       "  </tbody>\n",
       "</table>\n",
       "</div>"
      ],
      "text/plain": [
       "              Price      Quantity   Order Total\n",
       "count  16658.000000  17104.000000  17104.000000\n",
       "mean       6.586325      3.014149     19.914494\n",
       "std        4.834652      1.414598     18.732549\n",
       "min        1.000000      1.000000      1.000000\n",
       "25%        3.000000      2.000000      7.500000\n",
       "50%        5.000000      3.000000     15.000000\n",
       "75%        7.000000      4.000000     25.000000\n",
       "max       20.000000      5.000000    100.000000"
      ]
     },
     "execution_count": 11,
     "metadata": {},
     "output_type": "execute_result"
    }
   ],
   "source": [
    "df.describe()"
   ]
  },
  {
   "cell_type": "code",
   "execution_count": 12,
   "id": "a9d8bd81-cdb3-4a5a-9212-c9e7f6cf207c",
   "metadata": {},
   "outputs": [
    {
     "data": {
      "text/html": [
       "<div>\n",
       "<style scoped>\n",
       "    .dataframe tbody tr th:only-of-type {\n",
       "        vertical-align: middle;\n",
       "    }\n",
       "\n",
       "    .dataframe tbody tr th {\n",
       "        vertical-align: top;\n",
       "    }\n",
       "\n",
       "    .dataframe thead th {\n",
       "        text-align: right;\n",
       "    }\n",
       "</style>\n",
       "<table border=\"1\" class=\"dataframe\">\n",
       "  <thead>\n",
       "    <tr style=\"text-align: right;\">\n",
       "      <th></th>\n",
       "      <th>Order ID</th>\n",
       "      <th>Customer ID</th>\n",
       "      <th>Category</th>\n",
       "      <th>Item</th>\n",
       "      <th>Price</th>\n",
       "      <th>Quantity</th>\n",
       "      <th>Order Total</th>\n",
       "      <th>Order Date</th>\n",
       "      <th>Payment Method</th>\n",
       "    </tr>\n",
       "  </thead>\n",
       "  <tbody>\n",
       "    <tr>\n",
       "      <th>0</th>\n",
       "      <td>ORD_705844</td>\n",
       "      <td>CUST_092</td>\n",
       "      <td>Side Dishes</td>\n",
       "      <td>Side Salad</td>\n",
       "      <td>3.0</td>\n",
       "      <td>1.0</td>\n",
       "      <td>3.0</td>\n",
       "      <td>2023-12-21</td>\n",
       "      <td>Credit Card</td>\n",
       "    </tr>\n",
       "    <tr>\n",
       "      <th>1</th>\n",
       "      <td>ORD_338528</td>\n",
       "      <td>CUST_021</td>\n",
       "      <td>Side Dishes</td>\n",
       "      <td>Mashed Potatoes</td>\n",
       "      <td>4.0</td>\n",
       "      <td>3.0</td>\n",
       "      <td>12.0</td>\n",
       "      <td>2023-05-19</td>\n",
       "      <td>Digital Wallet</td>\n",
       "    </tr>\n",
       "    <tr>\n",
       "      <th>2</th>\n",
       "      <td>ORD_443849</td>\n",
       "      <td>CUST_029</td>\n",
       "      <td>Main Dishes</td>\n",
       "      <td>Grilled Chicken</td>\n",
       "      <td>15.0</td>\n",
       "      <td>4.0</td>\n",
       "      <td>60.0</td>\n",
       "      <td>2023-09-27</td>\n",
       "      <td>Credit Card</td>\n",
       "    </tr>\n",
       "    <tr>\n",
       "      <th>3</th>\n",
       "      <td>ORD_630508</td>\n",
       "      <td>CUST_075</td>\n",
       "      <td>Drinks</td>\n",
       "      <td>NaN</td>\n",
       "      <td>NaN</td>\n",
       "      <td>2.0</td>\n",
       "      <td>5.0</td>\n",
       "      <td>2022-08-09</td>\n",
       "      <td>Credit Card</td>\n",
       "    </tr>\n",
       "    <tr>\n",
       "      <th>4</th>\n",
       "      <td>ORD_648269</td>\n",
       "      <td>CUST_031</td>\n",
       "      <td>Main Dishes</td>\n",
       "      <td>Pasta Alfredo</td>\n",
       "      <td>12.0</td>\n",
       "      <td>4.0</td>\n",
       "      <td>48.0</td>\n",
       "      <td>2022-05-15</td>\n",
       "      <td>Cash</td>\n",
       "    </tr>\n",
       "    <tr>\n",
       "      <th>5</th>\n",
       "      <td>ORD_381680</td>\n",
       "      <td>CUST_031</td>\n",
       "      <td>Main Dishes</td>\n",
       "      <td>Salmon</td>\n",
       "      <td>18.0</td>\n",
       "      <td>5.0</td>\n",
       "      <td>90.0</td>\n",
       "      <td>2022-07-20</td>\n",
       "      <td>Digital Wallet</td>\n",
       "    </tr>\n",
       "    <tr>\n",
       "      <th>6</th>\n",
       "      <td>ORD_270994</td>\n",
       "      <td>CUST_071</td>\n",
       "      <td>Side Dishes</td>\n",
       "      <td>Garlic Bread</td>\n",
       "      <td>4.0</td>\n",
       "      <td>5.0</td>\n",
       "      <td>20.0</td>\n",
       "      <td>2022-08-19</td>\n",
       "      <td>Credit Card</td>\n",
       "    </tr>\n",
       "    <tr>\n",
       "      <th>7</th>\n",
       "      <td>ORD_146656</td>\n",
       "      <td>CUST_077</td>\n",
       "      <td>Main Dishes</td>\n",
       "      <td>NaN</td>\n",
       "      <td>15.0</td>\n",
       "      <td>3.0</td>\n",
       "      <td>45.0</td>\n",
       "      <td>2023-02-15</td>\n",
       "      <td>Cash</td>\n",
       "    </tr>\n",
       "    <tr>\n",
       "      <th>8</th>\n",
       "      <td>ORD_428611</td>\n",
       "      <td>CUST_083</td>\n",
       "      <td>Desserts</td>\n",
       "      <td>NaN</td>\n",
       "      <td>6.0</td>\n",
       "      <td>2.0</td>\n",
       "      <td>12.0</td>\n",
       "      <td>2023-12-16</td>\n",
       "      <td>Cash</td>\n",
       "    </tr>\n",
       "    <tr>\n",
       "      <th>9</th>\n",
       "      <td>ORD_743636</td>\n",
       "      <td>CUST_085</td>\n",
       "      <td>Main Dishes</td>\n",
       "      <td>Vegetarian Platter</td>\n",
       "      <td>14.0</td>\n",
       "      <td>5.0</td>\n",
       "      <td>70.0</td>\n",
       "      <td>2022-08-07</td>\n",
       "      <td>NaN</td>\n",
       "    </tr>\n",
       "  </tbody>\n",
       "</table>\n",
       "</div>"
      ],
      "text/plain": [
       "     Order ID Customer ID     Category                Item  Price  Quantity  \\\n",
       "0  ORD_705844    CUST_092  Side Dishes          Side Salad    3.0       1.0   \n",
       "1  ORD_338528    CUST_021  Side Dishes     Mashed Potatoes    4.0       3.0   \n",
       "2  ORD_443849    CUST_029  Main Dishes     Grilled Chicken   15.0       4.0   \n",
       "3  ORD_630508    CUST_075       Drinks                 NaN    NaN       2.0   \n",
       "4  ORD_648269    CUST_031  Main Dishes       Pasta Alfredo   12.0       4.0   \n",
       "5  ORD_381680    CUST_031  Main Dishes              Salmon   18.0       5.0   \n",
       "6  ORD_270994    CUST_071  Side Dishes        Garlic Bread    4.0       5.0   \n",
       "7  ORD_146656    CUST_077  Main Dishes                 NaN   15.0       3.0   \n",
       "8  ORD_428611    CUST_083     Desserts                 NaN    6.0       2.0   \n",
       "9  ORD_743636    CUST_085  Main Dishes  Vegetarian Platter   14.0       5.0   \n",
       "\n",
       "   Order Total  Order Date  Payment Method  \n",
       "0          3.0  2023-12-21     Credit Card  \n",
       "1         12.0  2023-05-19  Digital Wallet  \n",
       "2         60.0  2023-09-27     Credit Card  \n",
       "3          5.0  2022-08-09     Credit Card  \n",
       "4         48.0  2022-05-15            Cash  \n",
       "5         90.0  2022-07-20  Digital Wallet  \n",
       "6         20.0  2022-08-19     Credit Card  \n",
       "7         45.0  2023-02-15            Cash  \n",
       "8         12.0  2023-12-16            Cash  \n",
       "9         70.0  2022-08-07             NaN  "
      ]
     },
     "execution_count": 12,
     "metadata": {},
     "output_type": "execute_result"
    }
   ],
   "source": [
    "df.head(10)"
   ]
  },
  {
   "cell_type": "code",
   "execution_count": 13,
   "id": "a2f8d1d4-6d39-4803-9696-f968a3853f0d",
   "metadata": {},
   "outputs": [
    {
     "name": "stdout",
     "output_type": "stream",
     "text": [
      "['Order ID', 'Customer ID', 'Category', 'Item', 'Price', 'Quantity', 'Order Total', 'Order Date', 'Payment Method']\n"
     ]
    }
   ],
   "source": [
    "column_names = df.columns.tolist()\n",
    "print(column_names)"
   ]
  },
  {
   "cell_type": "markdown",
   "id": "6936428a-5315-4a4b-89af-e8999c5b179d",
   "metadata": {},
   "source": [
    "# DATA CLEANING"
   ]
  },
  {
   "cell_type": "code",
   "execution_count": 14,
   "id": "b41a7ab5-1a28-4019-926a-b20fd4b9ba33",
   "metadata": {},
   "outputs": [
    {
     "data": {
      "text/plain": [
       "0        False\n",
       "1        False\n",
       "2        False\n",
       "3        False\n",
       "4        False\n",
       "         ...  \n",
       "17529    False\n",
       "17530    False\n",
       "17531    False\n",
       "17532    False\n",
       "17533    False\n",
       "Length: 17534, dtype: bool"
      ]
     },
     "execution_count": 14,
     "metadata": {},
     "output_type": "execute_result"
    }
   ],
   "source": [
    "#duplicates\n",
    "df.duplicated()"
   ]
  },
  {
   "cell_type": "code",
   "execution_count": 15,
   "id": "2b52e73b-ce66-4b70-9128-92b7be5811b3",
   "metadata": {},
   "outputs": [
    {
     "name": "stdout",
     "output_type": "stream",
     "text": [
      "\n",
      "Missing values:\n",
      " Order ID             0\n",
      "Customer ID          0\n",
      "Category             0\n",
      "Item              1758\n",
      "Price              876\n",
      "Quantity           430\n",
      "Order Total        430\n",
      "Order Date           0\n",
      "Payment Method    1082\n",
      "dtype: int64\n"
     ]
    }
   ],
   "source": [
    "print(\"\\nMissing values:\\n\",\n",
    "     df.isnull().sum())"
   ]
  },
  {
   "cell_type": "code",
   "execution_count": 17,
   "id": "6817eb52-1029-4a5e-98d6-8d0ccc815dfa",
   "metadata": {},
   "outputs": [
    {
     "data": {
      "text/html": [
       "<div>\n",
       "<style scoped>\n",
       "    .dataframe tbody tr th:only-of-type {\n",
       "        vertical-align: middle;\n",
       "    }\n",
       "\n",
       "    .dataframe tbody tr th {\n",
       "        vertical-align: top;\n",
       "    }\n",
       "\n",
       "    .dataframe thead th {\n",
       "        text-align: right;\n",
       "    }\n",
       "</style>\n",
       "<table border=\"1\" class=\"dataframe\">\n",
       "  <thead>\n",
       "    <tr style=\"text-align: right;\">\n",
       "      <th></th>\n",
       "      <th>Order ID</th>\n",
       "      <th>Customer ID</th>\n",
       "      <th>Category</th>\n",
       "      <th>Item</th>\n",
       "      <th>Price</th>\n",
       "      <th>Quantity</th>\n",
       "      <th>Order Total</th>\n",
       "      <th>Order Date</th>\n",
       "      <th>Payment Method</th>\n",
       "    </tr>\n",
       "  </thead>\n",
       "  <tbody>\n",
       "    <tr>\n",
       "      <th>0</th>\n",
       "      <td>ORD_705844</td>\n",
       "      <td>CUST_092</td>\n",
       "      <td>Side Dishes</td>\n",
       "      <td>Side Salad</td>\n",
       "      <td>3.0</td>\n",
       "      <td>1.0</td>\n",
       "      <td>3.0</td>\n",
       "      <td>2023-12-21</td>\n",
       "      <td>Credit Card</td>\n",
       "    </tr>\n",
       "    <tr>\n",
       "      <th>1</th>\n",
       "      <td>ORD_338528</td>\n",
       "      <td>CUST_021</td>\n",
       "      <td>Side Dishes</td>\n",
       "      <td>Mashed Potatoes</td>\n",
       "      <td>4.0</td>\n",
       "      <td>3.0</td>\n",
       "      <td>12.0</td>\n",
       "      <td>2023-05-19</td>\n",
       "      <td>Digital Wallet</td>\n",
       "    </tr>\n",
       "    <tr>\n",
       "      <th>2</th>\n",
       "      <td>ORD_443849</td>\n",
       "      <td>CUST_029</td>\n",
       "      <td>Main Dishes</td>\n",
       "      <td>Grilled Chicken</td>\n",
       "      <td>15.0</td>\n",
       "      <td>4.0</td>\n",
       "      <td>60.0</td>\n",
       "      <td>2023-09-27</td>\n",
       "      <td>Credit Card</td>\n",
       "    </tr>\n",
       "    <tr>\n",
       "      <th>3</th>\n",
       "      <td>ORD_630508</td>\n",
       "      <td>CUST_075</td>\n",
       "      <td>Drinks</td>\n",
       "      <td>NaN</td>\n",
       "      <td>NaN</td>\n",
       "      <td>2.0</td>\n",
       "      <td>5.0</td>\n",
       "      <td>2022-08-09</td>\n",
       "      <td>Credit Card</td>\n",
       "    </tr>\n",
       "    <tr>\n",
       "      <th>4</th>\n",
       "      <td>ORD_648269</td>\n",
       "      <td>CUST_031</td>\n",
       "      <td>Main Dishes</td>\n",
       "      <td>Pasta Alfredo</td>\n",
       "      <td>12.0</td>\n",
       "      <td>4.0</td>\n",
       "      <td>48.0</td>\n",
       "      <td>2022-05-15</td>\n",
       "      <td>Cash</td>\n",
       "    </tr>\n",
       "    <tr>\n",
       "      <th>...</th>\n",
       "      <td>...</td>\n",
       "      <td>...</td>\n",
       "      <td>...</td>\n",
       "      <td>...</td>\n",
       "      <td>...</td>\n",
       "      <td>...</td>\n",
       "      <td>...</td>\n",
       "      <td>...</td>\n",
       "      <td>...</td>\n",
       "    </tr>\n",
       "    <tr>\n",
       "      <th>17529</th>\n",
       "      <td>ORD_320102</td>\n",
       "      <td>CUST_021</td>\n",
       "      <td>Drinks</td>\n",
       "      <td>NaN</td>\n",
       "      <td>NaN</td>\n",
       "      <td>4.0</td>\n",
       "      <td>4.0</td>\n",
       "      <td>2023-12-23</td>\n",
       "      <td>Cash</td>\n",
       "    </tr>\n",
       "    <tr>\n",
       "      <th>17530</th>\n",
       "      <td>ORD_974128</td>\n",
       "      <td>CUST_069</td>\n",
       "      <td>Desserts</td>\n",
       "      <td>Ice Cream</td>\n",
       "      <td>5.0</td>\n",
       "      <td>3.0</td>\n",
       "      <td>15.0</td>\n",
       "      <td>2023-12-18</td>\n",
       "      <td>Cash</td>\n",
       "    </tr>\n",
       "    <tr>\n",
       "      <th>17531</th>\n",
       "      <td>ORD_108324</td>\n",
       "      <td>CUST_050</td>\n",
       "      <td>Desserts</td>\n",
       "      <td>Ice Cream</td>\n",
       "      <td>5.0</td>\n",
       "      <td>4.0</td>\n",
       "      <td>20.0</td>\n",
       "      <td>2022-05-20</td>\n",
       "      <td>Digital Wallet</td>\n",
       "    </tr>\n",
       "    <tr>\n",
       "      <th>17532</th>\n",
       "      <td>ORD_612647</td>\n",
       "      <td>CUST_073</td>\n",
       "      <td>Side Dishes</td>\n",
       "      <td>Mashed Potatoes</td>\n",
       "      <td>4.0</td>\n",
       "      <td>2.0</td>\n",
       "      <td>8.0</td>\n",
       "      <td>2022-01-27</td>\n",
       "      <td>Digital Wallet</td>\n",
       "    </tr>\n",
       "    <tr>\n",
       "      <th>17533</th>\n",
       "      <td>ORD_680707</td>\n",
       "      <td>CUST_006</td>\n",
       "      <td>Desserts</td>\n",
       "      <td>NaN</td>\n",
       "      <td>7.0</td>\n",
       "      <td>4.0</td>\n",
       "      <td>28.0</td>\n",
       "      <td>2023-01-07</td>\n",
       "      <td>NaN</td>\n",
       "    </tr>\n",
       "  </tbody>\n",
       "</table>\n",
       "<p>17534 rows × 9 columns</p>\n",
       "</div>"
      ],
      "text/plain": [
       "         Order ID Customer ID     Category             Item  Price  Quantity  \\\n",
       "0      ORD_705844    CUST_092  Side Dishes       Side Salad    3.0       1.0   \n",
       "1      ORD_338528    CUST_021  Side Dishes  Mashed Potatoes    4.0       3.0   \n",
       "2      ORD_443849    CUST_029  Main Dishes  Grilled Chicken   15.0       4.0   \n",
       "3      ORD_630508    CUST_075       Drinks              NaN    NaN       2.0   \n",
       "4      ORD_648269    CUST_031  Main Dishes    Pasta Alfredo   12.0       4.0   \n",
       "...           ...         ...          ...              ...    ...       ...   \n",
       "17529  ORD_320102    CUST_021       Drinks              NaN    NaN       4.0   \n",
       "17530  ORD_974128    CUST_069     Desserts        Ice Cream    5.0       3.0   \n",
       "17531  ORD_108324    CUST_050     Desserts        Ice Cream    5.0       4.0   \n",
       "17532  ORD_612647    CUST_073  Side Dishes  Mashed Potatoes    4.0       2.0   \n",
       "17533  ORD_680707    CUST_006     Desserts              NaN    7.0       4.0   \n",
       "\n",
       "       Order Total  Order Date  Payment Method  \n",
       "0              3.0  2023-12-21     Credit Card  \n",
       "1             12.0  2023-05-19  Digital Wallet  \n",
       "2             60.0  2023-09-27     Credit Card  \n",
       "3              5.0  2022-08-09     Credit Card  \n",
       "4             48.0  2022-05-15            Cash  \n",
       "...            ...         ...             ...  \n",
       "17529          4.0  2023-12-23            Cash  \n",
       "17530         15.0  2023-12-18            Cash  \n",
       "17531         20.0  2022-05-20  Digital Wallet  \n",
       "17532          8.0  2022-01-27  Digital Wallet  \n",
       "17533         28.0  2023-01-07             NaN  \n",
       "\n",
       "[17534 rows x 9 columns]"
      ]
     },
     "execution_count": 17,
     "metadata": {},
     "output_type": "execute_result"
    }
   ],
   "source": [
    "df['Quantity'] = df['Quantity'].fillna(df['Quantity'].mode()[0])\n",
    "df"
   ]
  },
  {
   "cell_type": "code",
   "execution_count": 18,
   "id": "8f033c1c-3dd9-413c-a376-4b19478bc0f7",
   "metadata": {},
   "outputs": [
    {
     "data": {
      "text/plain": [
       "Order ID             0\n",
       "Customer ID          0\n",
       "Category             0\n",
       "Item              1758\n",
       "Price              876\n",
       "Quantity             0\n",
       "Order Total        430\n",
       "Order Date           0\n",
       "Payment Method    1082\n",
       "dtype: int64"
      ]
     },
     "execution_count": 18,
     "metadata": {},
     "output_type": "execute_result"
    }
   ],
   "source": [
    "df.isnull().sum()"
   ]
  },
  {
   "cell_type": "code",
   "execution_count": 20,
   "id": "10b70662-db34-40e5-9c63-5eedcae02e94",
   "metadata": {},
   "outputs": [
    {
     "data": {
      "text/plain": [
       "0             Side Salad\n",
       "1        Mashed Potatoes\n",
       "2        Grilled Chicken\n",
       "3          Pasta Alfredo\n",
       "4          Pasta Alfredo\n",
       "              ...       \n",
       "17529      Pasta Alfredo\n",
       "17530          Ice Cream\n",
       "17531          Ice Cream\n",
       "17532    Mashed Potatoes\n",
       "17533      Pasta Alfredo\n",
       "Name: Item, Length: 17534, dtype: object"
      ]
     },
     "execution_count": 20,
     "metadata": {},
     "output_type": "execute_result"
    }
   ],
   "source": [
    "df['Item'] = df['Item'].fillna(df['Item'].mode()[0])\n",
    "df['Item']"
   ]
  },
  {
   "cell_type": "code",
   "execution_count": 21,
   "id": "39c8b09a-ac7e-462c-863c-48405f455992",
   "metadata": {},
   "outputs": [
    {
     "data": {
      "text/plain": [
       "0         3.0\n",
       "1         4.0\n",
       "2        15.0\n",
       "3         5.0\n",
       "4        12.0\n",
       "         ... \n",
       "17529     5.0\n",
       "17530     5.0\n",
       "17531     5.0\n",
       "17532     4.0\n",
       "17533     7.0\n",
       "Name: Price, Length: 17534, dtype: float64"
      ]
     },
     "execution_count": 21,
     "metadata": {},
     "output_type": "execute_result"
    }
   ],
   "source": [
    "df['Price'] = df['Price'].fillna(df['Price'].mode()[0])\n",
    "df['Price']"
   ]
  },
  {
   "cell_type": "code",
   "execution_count": 22,
   "id": "bfce74b2-acb0-48b6-809a-68b0902ef952",
   "metadata": {},
   "outputs": [
    {
     "data": {
      "text/plain": [
       "Order ID             0\n",
       "Customer ID          0\n",
       "Category             0\n",
       "Item                 0\n",
       "Price                0\n",
       "Quantity             0\n",
       "Order Total        430\n",
       "Order Date           0\n",
       "Payment Method    1082\n",
       "dtype: int64"
      ]
     },
     "execution_count": 22,
     "metadata": {},
     "output_type": "execute_result"
    }
   ],
   "source": [
    "df.isnull().sum()"
   ]
  },
  {
   "cell_type": "code",
   "execution_count": 24,
   "id": "59e9812a-ecd5-48e1-862a-e3387215fdfc",
   "metadata": {},
   "outputs": [
    {
     "data": {
      "text/plain": [
       "0         3.0\n",
       "1        12.0\n",
       "2        60.0\n",
       "3         5.0\n",
       "4        48.0\n",
       "         ... \n",
       "17529     4.0\n",
       "17530    15.0\n",
       "17531    20.0\n",
       "17532     8.0\n",
       "17533    28.0\n",
       "Name: Order Total, Length: 17534, dtype: float64"
      ]
     },
     "execution_count": 24,
     "metadata": {},
     "output_type": "execute_result"
    }
   ],
   "source": [
    "df['Order Total'] = df['Order Total'].fillna(df['Order Total'].mode()[0])\n",
    "df['Order Total']"
   ]
  },
  {
   "cell_type": "code",
   "execution_count": 32,
   "id": "512fa29b-75ed-472a-a330-c1e05c25f36d",
   "metadata": {},
   "outputs": [
    {
     "data": {
      "text/plain": [
       "0           Credit Card\n",
       "1        Digital Wallet\n",
       "2           Credit Card\n",
       "3           Credit Card\n",
       "4                  Cash\n",
       "              ...      \n",
       "17529              Cash\n",
       "17530              Cash\n",
       "17531    Digital Wallet\n",
       "17532    Digital Wallet\n",
       "17533       Credit Card\n",
       "Name: Payment Method, Length: 17534, dtype: object"
      ]
     },
     "execution_count": 32,
     "metadata": {},
     "output_type": "execute_result"
    }
   ],
   "source": [
    "df['Payment Method'] = df['Payment Method'].fillna(df['Payment Method'].mode()[0])\n",
    "df['Payment Method']"
   ]
  },
  {
   "cell_type": "code",
   "execution_count": 26,
   "id": "151552e5-588d-4740-b2e2-d5d89e1f166f",
   "metadata": {},
   "outputs": [
    {
     "data": {
      "text/plain": [
       "Order ID          0\n",
       "Customer ID       0\n",
       "Category          0\n",
       "Item              0\n",
       "Price             0\n",
       "Quantity          0\n",
       "Order Total       0\n",
       "Order Date        0\n",
       "Payment Method    0\n",
       "dtype: int64"
      ]
     },
     "execution_count": 26,
     "metadata": {},
     "output_type": "execute_result"
    }
   ],
   "source": [
    "df.isnull().sum()"
   ]
  },
  {
   "cell_type": "markdown",
   "id": "15481154-f5ba-4773-b969-a1d3d91bb7e8",
   "metadata": {},
   "source": [
    "# TESTING"
   ]
  },
  {
   "cell_type": "code",
   "execution_count": 28,
   "id": "a7fcd7ae-c9ca-4ab5-bd2b-5fa656c36d81",
   "metadata": {},
   "outputs": [
    {
     "name": "stdout",
     "output_type": "stream",
     "text": [
      "T-statistic: 119.40807382716588\n",
      "P-value: 0.0\n",
      "Reject the null hypothesis: The sample mean is significantly different from the population mean.\n"
     ]
    }
   ],
   "source": [
    "# ONE TEST\n",
    "from scipy import stats\n",
    "\n",
    "\n",
    "sample_data = df['Order Total']\n",
    "\n",
    "# Known population mean\n",
    "population_mean = 3\n",
    "\n",
    "# Perform the one-sample t-test\n",
    "t_statistic, p_value = stats.ttest_1samp(sample_data, population_mean)\n",
    "\n",
    "# Output the results\n",
    "print(f\"T-statistic: {t_statistic}\")\n",
    "print(f\"P-value: {p_value}\")\n",
    "\n",
    "# Determine the result\n",
    "alpha = 0.05\n",
    "if p_value < alpha:\n",
    "    print(\"Reject the null hypothesis: The sample mean is significantly different from the population mean.\")\n",
    "else:\n",
    "    print(\"Fail to reject the null hypothesis: The sample mean is not significantly different from the population mean.\")"
   ]
  },
  {
   "cell_type": "code",
   "execution_count": 30,
   "id": "903498ec-8fec-48cf-8615-b2bd58231b06",
   "metadata": {},
   "outputs": [
    {
     "name": "stdout",
     "output_type": "stream",
     "text": [
      "Z-statistic: 169.2755650490628\n",
      "p-value: 0.0\n",
      "Reject the null hypothesis: Means are significantly different.\n"
     ]
    }
   ],
   "source": [
    "# Z TEST\n",
    "import scipy.stats as stats\n",
    "\n",
    "from statsmodels.stats.weightstats import ztest\n",
    "\n",
    "Main_Dishes = df[df['Category'] == 'Main Dishes']['Price']\n",
    "Side_Dishes= df[df['Category'] == 'Side Dishes']['Price']\n",
    "\n",
    "z_stat, p_val = ztest(Main_Dishes, Side_Dishes)\n",
    "\n",
    "print(\"Z-statistic:\", z_stat)\n",
    "print(\"p-value:\", p_val)\n",
    "\n",
    "# Define significance level (alpha)\n",
    "alpha = 0.05\n",
    "\n",
    "# Make a decision based on the p-value\n",
    "if p_val < alpha:\n",
    "    print(\"Reject the null hypothesis: Means are significantly different.\")\n",
    "else:\n",
    "    print(\"Fail to reject the null hypothesis: Means are not significantly different.\")"
   ]
  },
  {
   "cell_type": "markdown",
   "id": "3d1ed0f7-07ca-4c7e-a43d-fa1c6cb4a274",
   "metadata": {},
   "source": [
    "# OUTLIERS"
   ]
  },
  {
   "cell_type": "code",
   "execution_count": 37,
   "id": "37243592-5886-4268-9220-12adebdfff3e",
   "metadata": {},
   "outputs": [
    {
     "data": {
      "image/png": "[encoded data removed]",
      "text/plain": [
       "<Figure size 600x400 with 1 Axes>"
      ]
     },
     "metadata": {},
     "output_type": "display_data"
    }
   ],
   "source": [
    "import matplotlib.pyplot as plt\n",
    "import seaborn as sns\n",
    "\n",
    "plt.figure(figsize=(6,4))\n",
    "sns.boxplot(x=df['Order Total'])\n",
    "plt.title(\"Boxplot\")\n",
    "plt.show()"
   ]
  },
  {
   "cell_type": "markdown",
   "id": "dba68fc3-ae6f-4542-95bc-4fc4773d40e2",
   "metadata": {},
   "source": [
    "# DATA VISUALIZATION"
   ]
  },
  {
   "cell_type": "markdown",
   "id": "a8dc7892-f37d-4721-bb34-b5072a7f1fde",
   "metadata": {},
   "source": [
    "# UNIVARIENT ANALYSIS"
   ]
  },
  {
   "cell_type": "code",
   "execution_count": 38,
   "id": "4f6da002-dd01-4593-8bd7-909c8643c8da",
   "metadata": {},
   "outputs": [
    {
     "data": {
      "image/png": "[encoded data removed]",
      "text/plain": [
       "<Figure size 600x400 with 1 Axes>"
      ]
     },
     "metadata": {},
     "output_type": "display_data"
    }
   ],
   "source": [
    "#histogram\n",
    "plt.figure(figsize=(6,4))\n",
    "sns.histplot(df['Price'], bins=7, kde=True)\n",
    "plt.title(\" Price Distribution\")\n",
    "plt.xlabel(\"Price\")\n",
    "plt.ylabel(\"Frequency\")\n",
    "plt.show()"
   ]
  },
  {
   "cell_type": "code",
   "execution_count": 39,
   "id": "93d3a02e-3f76-4055-a721-cc2618d65c5a",
   "metadata": {},
   "outputs": [
    {
     "data": {
      "image/png": "[encoded data removed]",
      "text/plain": [
       "<Figure size 600x400 with 1 Axes>"
      ]
     },
     "metadata": {},
     "output_type": "display_data"
    }
   ],
   "source": [
    "# count plot\n",
    "plt.figure(figsize=(6,4))\n",
    "sns.countplot(x='Category', data=df)\n",
    "plt.title(\"Category\")\n",
    "plt.show()"
   ]
  },
  {
   "cell_type": "markdown",
   "id": "37135b1a-b0df-4bdc-9a2f-f752e69de989",
   "metadata": {},
   "source": [
    "# BIVARIANT"
   ]
  },
  {
   "cell_type": "code",
   "execution_count": 40,
   "id": "a8f4494a-0b66-45b6-acf8-7ee6f4399667",
   "metadata": {},
   "outputs": [
    {
     "data": {
      "image/png": "[encoded data removed]",
      "text/plain": [
       "<Figure size 600x400 with 1 Axes>"
      ]
     },
     "metadata": {},
     "output_type": "display_data"
    }
   ],
   "source": [
    "# Payment Method vs Order Total\n",
    "\n",
    "plt.figure(figsize=(6,4))\n",
    "sns.violinplot(x='Payment Method', y='Order Total', data=df)\n",
    "plt.title(\"payment method by Order Total\")\n",
    "plt.show()"
   ]
  },
  {
   "cell_type": "code",
   "execution_count": 41,
   "id": "9f86ceb5-5deb-418d-9632-713465886759",
   "metadata": {},
   "outputs": [
    {
     "data": {
      "image/png": "[encoded data removed]",
      "text/plain": [
       "<Figure size 600x400 with 1 Axes>"
      ]
     },
     "metadata": {},
     "output_type": "display_data"
    }
   ],
   "source": [
    "# Price vs Quantity (Scatter Plot) \n",
    "\n",
    "plt.figure(figsize=(6,4))\n",
    "sns.scatterplot(x='Order Total', y='Payment Method', data=df)\n",
    "plt.title(\"Order Total vs Payment Method\")\n",
    "plt.xlabel(\"Order Total\")\n",
    "plt.ylabel(\"Payment Method\")\n",
    "plt.show()"
   ]
  },
  {
   "cell_type": "markdown",
   "id": "b64bda59-0613-4acf-aa0d-e1bd0c6da8b4",
   "metadata": {},
   "source": [
    "# MULTIVARIENT"
   ]
  },
  {
   "cell_type": "code",
   "execution_count": 42,
   "id": "f1e9954e-97bc-4ba0-be8c-b9d2941164c7",
   "metadata": {},
   "outputs": [
    {
     "data": {
      "image/png": "[encoded data removed]",
      "text/plain": [
       "<Figure size 600x400 with 2 Axes>"
      ]
     },
     "metadata": {},
     "output_type": "display_data"
    }
   ],
   "source": [
    "plt.figure(figsize=(6,4))\n",
    "sns.heatmap(df[['Price','Quantity','Order Total']].corr(), annot=True, cmap=\"coolwarm\")\n",
    "plt.title(\"Correlation Heatmap\")\n",
    "plt.show()"
   ]
  },
  {
   "cell_type": "markdown",
   "id": "72b14715-17cb-4f5c-9669-43330e2a5073",
   "metadata": {},
   "source": [
    "# OVERALL INSIGHTS FROM ANALYSIS"
   ]
  },
  {
   "cell_type": "markdown",
   "id": "b51242ac-a488-4363-ac3e-47abc36e0925",
   "metadata": {},
   "source": [
    "- High Revenue Items: Main Dishes generate the most revenue per order.\n",
    "- Top Selling Category: Beverages and Side Dishes have the highest number of orders.\n",
    "- Order Quantity: Most orders contain 1–3 items.\n",
    "- Price vs Quantity: Higher-priced items are ordered less frequently.\n",
    "- Order Total: Total order values mostly fall in the lower range; few large orders exist.\n",
    "- Payment Method: Cash is the most commonly used payment method.\n",
    "- Peak Times: Orders are highest during lunch and dinner hours.\n",
    "- Correlation: Price and Order Total show a strong positive correlation.\n",
    "- Outliers: Some orders have unusually high quantities or totals, indicating bulk orders.\n",
    "- Customer Preference: Most customers order combinations of Main Dishes with Side Dishes or Beverages."
   ]
  }
 ],
 "metadata": {
  "kernelspec": {
   "display_name": "Python 3 (ipykernel)",
   "language": "python",
   "name": "python3"
  },
  "language_info": {
   "codemirror_mode": {
    "name": "ipython",
    "version": 3
   },
   "file_extension": ".py",
   "mimetype": "text/x-python",
   "name": "python",
   "nbconvert_exporter": "python",
   "pygments_lexer": "ipython3",
   "version": "3.11.5"
  }
 },
 "nbformat": 4,
 "nbformat_minor": 5
}
